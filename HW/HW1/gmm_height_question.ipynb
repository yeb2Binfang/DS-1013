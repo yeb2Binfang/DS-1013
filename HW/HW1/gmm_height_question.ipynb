{
 "cells": [
  {
   "cell_type": "markdown",
   "metadata": {},
   "source": [
    "# Gaussian mixture model for height\n",
    "\n",
    "We consider a dataset of the height of 4,082 men and 1,986 women in the United States army. The data is loaded with the following code."
   ]
  },
  {
   "cell_type": "code",
   "execution_count": 3,
   "metadata": {},
   "outputs": [
    {
     "name": "stdout",
     "output_type": "stream",
     "text": [
      "4082\n",
      "1986\n",
      "6068\n"
     ]
    }
   ],
   "source": [
    "import pandas as pd\n",
    "import numpy as np\n",
    "import matplotlib.pyplot as plt \n",
    "from scipy import stats\n",
    "from scipy.stats import norm\n",
    "import matplotlib \n",
    "\n",
    "# plot settings\n",
    "matplotlib.rcParams['text.usetex'] = True\n",
    "font_size = 25\n",
    "font_size_legend = 22\n",
    "font_size_ticks = 25\n",
    "\n",
    "# read data\n",
    "data_men = pd.read_csv (\"../data/ANSUR II MALE Public.csv\", encoding='latin-1')\n",
    "data_women = pd.read_csv (\"../data/ANSUR II FEMALE Public.csv\", encoding='latin-1')\n",
    "\n",
    "stature_men = data_men['stature'] / 10.\n",
    "stature_women = data_women['stature'] / 10.\n",
    "stature = np.concatenate((stature_men,stature_women))\n",
    "\n",
    "print(len(stature_men))\n",
    "print(len(stature_women))\n",
    "print(len(stature))\n",
    "\n",
    "# distribution of male and female heights\n",
    "true_alpha = len(stature_women)/len(stature)\n",
    "true_mu_1 = np.mean(stature_women)\n",
    "true_sigma_1 = np.std(stature_women)\n",
    "true_mu_0 = np.mean(stature_men)\n",
    "true_sigma_0 = np.std(stature_men)"
   ]
  },
  {
   "cell_type": "markdown",
   "metadata": {},
   "source": [
    "### The expectation maximization algorithm for GMM\n",
    "\n",
    "Suppose we have no sex information of each individual, we would like to fit a Gaussian mixture model with two clusters to the height data. Implement the EM-algorithm to maximize the log-likelihood with respect to parameters $\\alpha_0, \\alpha_1, \\mu_0, \\mu_1, \\sigma_0, \\sigma_1$. Please keep the log of updating for each parameter during the iterations. (Hint: use norm.pdf to compute the likelihoods)"
   ]
  },
  {
   "cell_type": "code",
   "execution_count": 6,
   "metadata": {},
   "outputs": [],
   "source": [
    "n_iter = 1500\n",
    "\n",
    "# Initialize parameters\n",
    "n = len(stature)\n",
    "alpha = np.zeros(n_iter)    # alpha_1 = 1 - alpha_0\n",
    "mu = np.zeros((n_iter, 2))\n",
    "sigma = np.zeros((n_iter, 2))\n",
    "loglikelihood = np.zeros(n_iter)\n",
    "\n",
    "alpha[0] = 0.5\n",
    "mu[0,0] = np.mean(stature) + 1\n",
    "mu[0,1] = np.mean(stature) - 1\n",
    "sigma[0,0] = np.std(stature)\n",
    "sigma[0,1] = np.std(stature)\n",
    "\n",
    "# Computer the inital membership probabilities \\gamma_i,k\n",
    "gamma_0 = # TODO\n",
    "gamma_1 = # TODO\n",
    "\n",
    "for ind in range(n_iter):\n",
    "    # Implement the iteration of EM-algorithm\n",
    "    \n",
    "    # 1. Update the membership probabilities\n",
    "    # TODO\n",
    "    \n",
    "    # 2. Update the parameters of each Gaussian conditional distribution\n",
    "    # TODO\n",
    "    \n",
    "    # logging\n",
    "    if np.mod(ind,100) == 0:\n",
    "        print(\"Iteration: \" + str(ind))\n",
    "        print(\"mu_0 = \" + str(mu[ind,0]) + \" sigma_0: \" + str(sigma[ind,0])\n",
    "              + \" mu_1 = \" + str(mu[ind,1]) + \" sigma_1: \" + str(sigma[ind,1])\n",
    "              + \" alpha_1 =\" + str(alpha[ind]))\n",
    "        print(\"log-likelihood: \" + str(loglikelihood[ind]))"
   ]
  },
  {
   "cell_type": "markdown",
   "metadata": {},
   "source": [
    "### Plot the log-likelihood, parameters ($\\alpha_0, \\alpha_1, \\mu_0, \\mu_1, \\sigma_0, \\sigma_1$),  of each iteration. Do they converge?\n"
   ]
  },
  {
   "cell_type": "code",
   "execution_count": 10,
   "metadata": {},
   "outputs": [],
   "source": [
    "xmin = -10\n",
    "xmax = n_iter + 10\n",
    "\n",
    "plt.figure(figsize=(12,5))\n",
    "plt.xticks(fontsize=font_size_ticks) \n",
    "plt.yticks(fontsize=font_size_ticks)\n",
    "plt.plot(range(n_iter),loglikelihood,color=\"black\",lw=3)\n",
    "plt.xlim([xmin,xmax])\n",
    "plt.ylabel(\"Log-likelihood\",fontsize=font_size)\n",
    "plt.xlabel(\"Iterations\",fontsize=font_size)\n",
    "plt.savefig('plots/height_sex_mixture_gmm_iterations.pdf',bbox_inches=\"tight\")\n",
    "\n",
    "plt.figure(figsize=(12,5))\n",
    "plt.xticks(fontsize=font_size_ticks) \n",
    "plt.yticks(fontsize=font_size_ticks)\n",
    "plt.plot(range(n_iter),mu[:,0],color=\"black\",lw=3,ls=\"dashed\",label=r\"$\\mu_1$\")\n",
    "#plt.hlines(true_mu_0,0,n_iter,color=\"black\",lw=3,ls=\"dotted\")\n",
    "plt.plot(range(n_iter),mu[:,1],color=\"black\",lw=3,ls=\"dotted\",label=r\"$\\mu_2$\")\n",
    "#plt.hlines(true_mu_1,0,n_iter,color=\"black\",lw=3,ls=\"dotted\")\n",
    "plt.xlim([xmin,xmax])\n",
    "plt.xlabel(\"Iterations\",fontsize=font_size)\n",
    "plt.ylabel('Height (cms)',fontsize=font_size,labelpad=20)\n",
    "plt.legend(fontsize=font_size,loc=\"center right\")\n",
    "plt.savefig('plots/height_sex_mixture_gmm_mu.pdf',bbox_inches=\"tight\")\n",
    "\n",
    "plt.figure(figsize=(12,5))\n",
    "plt.xticks(fontsize=font_size_ticks) \n",
    "plt.yticks(fontsize=font_size_ticks)\n",
    "plt.plot(range(n_iter),sigma[:,0],color=\"black\",lw=3,ls=\"dashed\",label=r\"$\\sigma_1$\")\n",
    "#plt.hlines(true_sigma_0,0,n_iter,color=\"black\",lw=3,ls=\"dotted\")\n",
    "plt.plot(range(n_iter),sigma[:,1],color=\"black\",lw=3,ls=\"dotted\",label=r\"$\\sigma_2$\")\n",
    "plt.xlim([xmin,xmax])\n",
    "plt.xlabel(\"Iterations\",fontsize=font_size)\n",
    "plt.ylabel('Height (cms)',fontsize=font_size,labelpad=20)\n",
    "plt.legend(fontsize=font_size)\n",
    "plt.savefig('plots/height_sex_mixture_gmm_sigma.pdf',bbox_inches=\"tight\")\n",
    "\n",
    "\n",
    "plt.figure(figsize=(12,5))\n",
    "plt.xticks(fontsize=font_size_ticks) \n",
    "plt.yticks(fontsize=font_size_ticks)\n",
    "plt.plot(range(n_iter),alpha,color=\"black\",lw=3,ls=\"dotted\",label=r\"$\\alpha_2$\")\n",
    "plt.plot(range(n_iter),1-alpha,color=\"black\",lw=3,ls=\"dashed\",label=r\"$\\alpha_1$\")\n",
    "plt.xlim([xmin,xmax])\n",
    "plt.ylabel('Probability',fontsize=font_size,labelpad=20)\n",
    "plt.xlabel(\"Iterations\",fontsize=font_size)\n",
    "plt.legend(fontsize=font_size,loc=\"center right\")\n",
    "plt.savefig('plots/height_sex_mixture_gmm_alpha.pdf',bbox_inches=\"tight\")"
   ]
  },
  {
   "cell_type": "markdown",
   "metadata": {},
   "source": [
    "#### Plot the pdf of Gaussian mixture $p(h)$ and the histograms of heights. Show the contribution of each cluster to the pdf of Gassian mixture. Also, plot the conditional pmf of each cluster given the heights $p(\\text{cluster} \\mid h)$. Report the figures at iteration 0, 100, and 1499."
   ]
  },
  {
   "cell_type": "code",
   "execution_count": 11,
   "metadata": {},
   "outputs": [],
   "source": [
    "n_bins = 30\n",
    "hmin = stature.min()\n",
    "hmax = stature.max()\n",
    "h = np.linspace(hmin,hmax,500)\n",
    "\n",
    "for ind in [0,100,1500-1]:\n",
    "    \n",
    "    # Compute the marginal pdf of the gaussian mixture with h\n",
    "    contribution_0 = # TODO\n",
    "    contribution_1 = # TODO\n",
    "    marginal_pdf = # TODO\n",
    "    \n",
    "\n",
    "    plt.figure(figsize=(12,9))\n",
    "    plt.xticks(fontsize=font_size_ticks)\n",
    "    plt.yticks(fontsize=font_size_ticks)\n",
    "    plt.hist(stature,bins=n_bins,color='white', edgecolor='black',\n",
    "              linewidth=1,density=True,label='Histogram')\n",
    "    plt.plot(h,marginal_pdf,lw=3,color=\"black\",label='Mixture model')\n",
    "    plt.plot(h,contribution_0,lw=3,color=\"black\",ls=\"dashed\",label='Cluster 1')\n",
    "    plt.plot(h,contribution_1,lw=4,color=\"black\",ls=\"dotted\",label='Cluster 2')\n",
    "    plt.xlim([hmin,hmax])\n",
    "    plt.xlabel('$a$ (height in cms)',fontsize=font_size,labelpad=20)\n",
    "    plt.legend(fontsize=font_size)\n",
    "    plt.savefig('plots/height_sex_mixture_gmm_' + str(ind) +'.pdf',bbox_inches=\"tight\")\n",
    "    \n",
    "    \n",
    "    # Compute the conditional pmf of the gaussian mixture on h\n",
    "    cluster0_given_stature = # TODO\n",
    "    cluster1_given_stature = # TODO\n",
    "\n",
    "    plt.figure(figsize=(12,9))\n",
    "    plt.xticks(fontsize=font_size_ticks) \n",
    "    plt.yticks(fontsize=font_size_ticks)\n",
    "    plt.plot(h,cluster0_given_stature,color=\"black\",lw=3,ls=\"dashed\",label='P( Cluster 1 $|$ Height = h )')\n",
    "    plt.plot(h,cluster1_given_stature,color=\"black\",lw=3,ls=\"dotted\",label='P( Cluster 2 $|$ Height = h )')\n",
    "    plt.xlim([hmin,hmax])\n",
    "    plt.ylim([-0.05,1.3])\n",
    "    plt.ylabel(r\"Conditional probability mass function\",fontsize=font_size,labelpad=20)\n",
    "    plt.xlabel('Height (h)',fontsize=font_size,labelpad=20)\n",
    "    plt.legend(fontsize=font_size)\n",
    "    plt.savefig('plots/height_sex_conditional_pmf_gmm_' + str(ind) +'.pdf',bbox_inches=\"tight\")\n"
   ]
  },
  {
   "cell_type": "code",
   "execution_count": null,
   "metadata": {},
   "outputs": [],
   "source": []
  },
  {
   "cell_type": "code",
   "execution_count": null,
   "metadata": {},
   "outputs": [],
   "source": []
  }
 ],
 "metadata": {
  "kernelspec": {
   "display_name": "Python 3",
   "language": "python",
   "name": "python3"
  },
  "language_info": {
   "codemirror_mode": {
    "name": "ipython",
    "version": 3
   },
   "file_extension": ".py",
   "mimetype": "text/x-python",
   "name": "python",
   "nbconvert_exporter": "python",
   "pygments_lexer": "ipython3",
   "version": "3.7.4"
  }
 },
 "nbformat": 4,
 "nbformat_minor": 4
}
